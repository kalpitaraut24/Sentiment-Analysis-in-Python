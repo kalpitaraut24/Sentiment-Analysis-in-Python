{
 "cells": [
  {
   "cell_type": "code",
   "execution_count": 1,
   "metadata": {},
   "outputs": [],
   "source": [
    "## imports vader\n",
    "from vaderSentiment.vaderSentiment import SentimentIntensityAnalyzer\n"
   ]
  },
  {
   "cell_type": "code",
   "execution_count": 2,
   "metadata": {},
   "outputs": [],
   "source": [
    "# imports library to perform statistical analysis like correlation\n",
    "from scipy import stats"
   ]
  },
  {
   "cell_type": "code",
   "execution_count": 12,
   "metadata": {},
   "outputs": [],
   "source": [
    "##Adding texts for sentiment analysis\n",
    "group = [\"Hii Kalpita\",      \n",
    "            \"Sagar here\",   \n",
    "            \"Hi Sagar\",       \n",
    "            \"So what was it that you wanted to ask?\",  \n",
    "            \"How did you approach for your RAs and TAs\",  \n",
    "            \"So you'll probably get mails from your college if there are any open positions.If not then check your college's website where you can find job postings\",\n",
    "            \"In my case, I emailed around 25 professors from my department with my CV.\",\n",
    "             \"Oh that's something smart\",\n",
    "             \"So out of those, one of them replied back and things went ahead\",\n",
    "             \"Enough money for a month's expenses?\",\n",
    "             \"Yup. It depends on where you live actually\",\n",
    "             \"That was once you finalized right? Or after you were on campus finally\",\n",
    "             \"In my case, my rent is 340 and I earn 540 per month so I manage\",\n",
    "             \"Yeah because even if I get NEU, I'm not sure I'd join\",\n",
    "             \"It's crazy competition\",\n",
    "             \"Yeah I know right?\",\n",
    "             \"Okay, I have to go now. I'll talk to you later. All the best\",\n",
    "             \"Okay! Thanks Kalpita. Bye\"]"
   ]
  },
  {
   "cell_type": "code",
   "execution_count": 4,
   "metadata": {},
   "outputs": [],
   "source": [
    "## calls vader\n",
    "analyzer = SentimentIntensityAnalyzer()"
   ]
  },
  {
   "cell_type": "code",
   "execution_count": 5,
   "metadata": {},
   "outputs": [
    {
     "name": "stdout",
     "output_type": "stream",
     "text": [
      "Hii Kalpita------------------------------------------------------ {'neg': 0.0, 'neu': 1.0, 'pos': 0.0, 'compound': 0.0}\n",
      "Sagar here------------------------------------------------------- {'neg': 0.0, 'neu': 1.0, 'pos': 0.0, 'compound': 0.0}\n",
      "Hi Sagar--------------------------------------------------------- {'neg': 0.0, 'neu': 1.0, 'pos': 0.0, 'compound': 0.0}\n",
      "So what was it that you wanted to ask?--------------------------- {'neg': 0.0, 'neu': 1.0, 'pos': 0.0, 'compound': 0.0}\n",
      "How did you approach for your RAs and TAs------------------------ {'neg': 0.0, 'neu': 1.0, 'pos': 0.0, 'compound': 0.0}\n",
      "So you'll probably get mails from your college if there are any open positions.If not then check your college's website where you can find job postings {'neg': 0.0, 'neu': 1.0, 'pos': 0.0, 'compound': 0.0}\n",
      "In my case, I emailed around 25 professors from my department with my CV. {'neg': 0.0, 'neu': 1.0, 'pos': 0.0, 'compound': 0.0}\n",
      "Oh that's something smart---------------------------------------- {'neg': 0.0, 'neu': 0.526, 'pos': 0.474, 'compound': 0.4019}\n",
      "So out of those, one of them replied back and things went ahead-- {'neg': 0.0, 'neu': 1.0, 'pos': 0.0, 'compound': 0.0}\n",
      "Enough money for a month's expenses?----------------------------- {'neg': 0.0, 'neu': 1.0, 'pos': 0.0, 'compound': 0.0}\n",
      "Yup. It depends on where you live actually----------------------- {'neg': 0.0, 'neu': 1.0, 'pos': 0.0, 'compound': 0.0}\n",
      "That was once you finalized right? Or after you were on campus finally {'neg': 0.0, 'neu': 1.0, 'pos': 0.0, 'compound': 0.0}\n",
      "In my case, my rent is 340 and I earn 540 per month so I manage-- {'neg': 0.0, 'neu': 1.0, 'pos': 0.0, 'compound': 0.0}\n",
      "Yeah because even if I get NEU, I'm not sure I'd join------------ {'neg': 0.274, 'neu': 0.569, 'pos': 0.157, 'compound': -0.1655}\n",
      "It's crazy competition------------------------------------------- {'neg': 0.545, 'neu': 0.455, 'pos': 0.0, 'compound': -0.34}\n",
      "Yeah I know right?----------------------------------------------- {'neg': 0.0, 'neu': 0.476, 'pos': 0.524, 'compound': 0.296}\n",
      "Okay, I have to go now. I'll talk to you later. All the best----- {'neg': 0.0, 'neu': 0.643, 'pos': 0.357, 'compound': 0.7269}\n",
      "Okay! Thanks Kalpita. Bye---------------------------------------- {'neg': 0.0, 'neu': 0.282, 'pos': 0.718, 'compound': 0.6239}\n"
     ]
    }
   ],
   "source": [
    "## analyzes sentiment for group \n",
    "positivesg = []\n",
    "negativesg = []\n",
    "for txt in group:\n",
    "    vs = analyzer.polarity_scores(txt)\n",
    "    print(\"{:-<65} {}\".format(txt, str(vs)))\n",
    "    positivesg.append(vs['pos'])\n",
    "    negativesg.append(vs['neg'])"
   ]
  },
  {
   "cell_type": "code",
   "execution_count": 7,
   "metadata": {},
   "outputs": [
    {
     "name": "stdout",
     "output_type": "stream",
     "text": [
      "(-0.107029636061563, 0.6725093450185388)\n"
     ]
    }
   ],
   "source": [
    "### calculate Pearson's correlation\n",
    "## prints correlation coefficient r, p-value\n",
    "print(stats.pearsonr(positivesg,negativesg))"
   ]
  },
  {
   "cell_type": "markdown",
   "metadata": {},
   "source": [
    "### What sentiment analysis tool did you use (provide the name and a link). Describe how it identified sentiment in texts (e.g. classifier? rules? dictionaries?)\n",
    "\n",
    "Ans: I use the VADER SENTIMENT analysis tool. Valence Aware Dictionary and Sentiment Reasoner(VADER) is a lexicon and rule based sentiment analysis tool that is specifically attenuated to sentiments expressed in social media. The lexicon based approach involves calculating orientation for a document from the semantic orientation (positive, negative or neutral) of words and phrases in the document. VADER has been found to be quite successful when dealing with social media texts, NY Times editorials, movie reviews, and product reviews. This is because VADER not only tells about the Positivity and Negativity score but also tells us about how positive or negative a sentiment is.\n",
    "The tool can be found here: https://github.com/cjhutto/vaderSentiment#about-the-scoring "
   ]
  },
  {
   "cell_type": "markdown",
   "metadata": {},
   "source": [
    "### Tell us what type of online communication you analyzed.\n",
    "\n",
    "Ans: I performed sentiment analysis on ‘Whatsapp messages’. The reason for choosing this form of CMC is because, it is easy to export messages and most often than usual, users use deception (particularly, butler lies) in casual conversations. I wanted to explore if this hypothesis was true using VADER. "
   ]
  },
  {
   "cell_type": "markdown",
   "metadata": {},
   "source": [
    "### Provide the data and the positivity and negativity scores for each message. Looking at the results at a text level, do you agree with every classification it made?\n",
    "\n",
    "Ans: The compound score is a metric that is sued to denote whether a text is positive, negative or neutral. It does so by summing the valence scores of each word in the lexicon, adjusted according to the rules, and then normalized to be between -1 (most extreme negative) and +1 (most extreme positive). Typical threshold values (used in the literature cited on this page) are:\n",
    "1.\tpositive sentiment: compound score >= 0.05\n",
    "2.\tneutral sentiment: (compound score > -0.05) and (compound score < 0.05)\n",
    "3.\tnegative sentiment: compound score <= -0.05\n",
    "\n",
    "#### RESULTS: \n",
    "\n",
    "1. Hii Kalpita--------- {'neg': 0.0, 'neu': 1.0, 'pos': 0.0, 'compound': 0.0} \n",
    "##### Compound score: 0 \n",
    "##### Neutral score: 1 \n",
    "This denotes that the sentiment is neither positive or negative. I agree with this classification.\n",
    "\n",
    ".................\n",
    "\n",
    "2. Sagar here---------- {'neg': 0.0, 'neu': 1.0, 'pos': 0.0, 'compound': 0.0}\n",
    "##### Compound score: 0 \n",
    "##### Neutral score: 1 \n",
    "This denotes that the sentiment is neither positive or negative. I agree with this classification.\n",
    "\n",
    ".................\n",
    "\n",
    "3. Hi Sagar------------ {'neg': 0.0, 'neu': 1.0, 'pos': 0.0, 'compound': 0.0} \n",
    "##### Compound score: 0 \n",
    "##### Neutral score: 1 \n",
    "This denotes that the sentiment is neither positive or negative. I agree with this classification.\n",
    "\n",
    ".................\n",
    "\n",
    "4. So what was it that you wanted to ask?-----{'neg': 0.0, 'neu': 1.0, 'pos': 0.0, 'compound': 0.0} \n",
    "##### Compound score: 0 \n",
    "##### Neutral score: 1 \n",
    "This denotes that the sentiment is neither positive or negative. I agree with this classification.\n",
    "\n",
    ".................\n",
    "\n",
    "5. How did you approach for your RAs and TAs--------- {'neg': 0.0, 'neu': 1.0, 'pos': 0.0, 'compound': 0.0} \n",
    "##### Compound score: 0 \n",
    "##### Neutral score: 1 \n",
    "This denotes that the sentiment is neither positive or negative. I agree with this classification.\n",
    "\n",
    ".................\n",
    "\n",
    "6. So you'll probably get mails from your college if there are any open positions.If not then check your college's website where you can find job postings------------ {'neg': 0.0, 'neu': 1.0, 'pos': 0.0, 'compound': 0.0} \n",
    "##### Compound score: 0 \n",
    "##### Neutral score: 1 \n",
    "This denotes that the sentiment is neither positive or negative. I agree with this classification.\n",
    "\n",
    ".................\n",
    "\n",
    "7. In my case, I emailed around 25 professors from my department with my CV. ----------------------{'neg': 0.0, 'neu': 1.0, 'pos': 0.0, 'compound': 0.0} \n",
    "##### Compound score: 0 \n",
    "##### Neutral score: 1 \n",
    "This denotes that the sentiment is neither positive or negative. I agree with this classification.\n",
    "\n",
    ".................\n",
    "\n",
    "8. Oh that's something smart------- {'neg': 0.0, 'neu': 0.526, 'pos': 0.474, 'compound': 0.4019} \n",
    "##### Compound score: 0 .4019\n",
    "##### Positive score: 0.474\n",
    "Since the compound score > 0.05, the sentiment analysis for this text is positive. I agree with this classification.\n",
    "\n",
    ".................\n",
    "\n",
    "9. So out of those, one of them replied back and things went ahead-- {'neg': 0.0, 'neu': 1.0, 'pos': 0.0, 'compound': 0.0} \n",
    "##### Compound score: 0 \n",
    "##### Neutral score: 1 \n",
    "This denotes that the sentiment is neither positive or negative. I agree with this classification.\n",
    "\n",
    ".................\n",
    "\n",
    "10. Enough money for a month's expenses?----------------------------- {'neg': 0.0, 'neu': 1.0, 'pos': 0.0, 'compound': 0.0} \n",
    "##### Compound score: 0 \n",
    "##### Neutral score: 1 \n",
    "This denotes that the sentiment is neither positive or negative. I agree with this classification.\n",
    "\n",
    ".................\n",
    "\n",
    "11. Yup. It depends on where you live actually----------------------- {'neg': 0.0, 'neu': 1.0, 'pos': 0.0, 'compound': 0.0} \n",
    "##### Compound score: 0 \n",
    "##### Neutral score: 1 \n",
    "This denotes that the sentiment is neither positive or negative. I agree with this classification.\n",
    "\n",
    ".................\n",
    "\n",
    "12. That was once you finalized right? Or after you were on campus finally {'neg': 0.0, 'neu': 1.0, 'pos': 0.0, 'compound': 0.0} \n",
    "##### Compound score: 0 \n",
    "##### Neutral score: 1 \n",
    "This denotes that the sentiment is neither positive or negative. I agree with this classification.\n",
    "\n",
    ".................\n",
    "\n",
    "13. In my case, my rent is 340 and I earn 540 per month so I manage-- {'neg': 0.0, 'neu': 1.0, 'pos': 0.0, 'compound': 0.0} \n",
    "##### Compound score: 0 \n",
    "##### Neutral score: 1 \n",
    "This denotes that the sentiment is neither positive or negative. I agree with this classification.\n",
    "\n",
    ".................\n",
    "\n",
    "14. Yeah because even if I get NEU, I'm not sure I'd join------------ {'neg': 0.274, 'neu': 0.569, 'pos': 0.157, 'compound': -0.1655} \n",
    "##### Compound score: -0.1655\n",
    "##### Negative score: 0.274\n",
    "##### Positive score: 0.157\n",
    "Since the compound score < -0.05, the sentiment analysis for this text is negative. I agree with this classification because the user feels negatively about this decision and the lexicon has accurately computed 'not sure' as a negative sentiment.\n",
    "\n",
    ".................\n",
    "\n",
    "15. It's crazy competition------------------------------------------- {'neg': 0.545, 'neu': 0.455, 'pos': 0.0, 'compound': -0.34} \n",
    "##### Compound score: - 0.34\n",
    "##### Negative score: 0.545\n",
    "Since the compound score < -0.05, the sentiment analysis for this text is negative. I disagree with this classification. Because the analysis might have computed 'crazy' as a negative emotion whereas it has just been used in this text to denote a magnitude or extent of competition. \n",
    "\n",
    ".................\n",
    "\n",
    "16. Yeah I know right?----------------------------------------------- {'neg': 0.0, 'neu': 0.476, 'pos': 0.524, 'compound': 0.296} \n",
    "##### Compound score: 0 .296\n",
    "##### Positive score: 0.524\n",
    "Since the compound score > 0.05, the sentiment analysis for this text is positive. I agree with this classification because this text denotes excitement and the tool has accurately computed the sentiment as positive by scanning words like 'yeah','right'\n",
    "\n",
    ".................\n",
    "\n",
    "17. Okay, I have to go now. I'll talk to you later. All the best----- {'neg': 0.0, 'neu': 0.643, 'pos': 0.357, 'compound': 0.7269} \n",
    "##### Compound score: 0 7263\n",
    "##### Positive score: 0.357\n",
    "Since the compound score > 0.05, the sentiment analysis for this text is positive. I disagree with this classification because the user says 'I have to go, talk to you later'. Although these phrases may not seem negative, I feel that they denote lack of interest in continuing the conversation. The text ends with 'All the best' which is a positive sentiment and I strongy believe that the tool must have computed the score based on the word 'best' \n",
    "\n",
    ".................\n",
    "\n",
    "18. Okay! Thanks Kalpita. Bye---------------------------------------- {'neg': 0.0, 'neu': 0.282, 'pos': 0.718, 'compound': 0.6239}\n",
    "##### Compound score: 0 .6239\n",
    "##### Positive score: 0.718\n",
    "Since the compound score > 0.05, the sentiment analysis for this text is positive. I agree with this classification because the user is grateful. The use of the word 'Thanks' has been accurately computed as positive by the tool. \n",
    "\n"
   ]
  },
  {
   "cell_type": "markdown",
   "metadata": {},
   "source": [
    "### Do your data support the hypothesis that positivity and negativity are opposites. Why or why not? Why do you think you observe the pattern that you do? (Advanced - calculate a correlation and/or a test of significance to explain the relationship.)\n",
    "Ans: No. My data does not support the hypothesis that positivity and negativity are opposites. Although there were certain cases in the results where the tool computed the analysis to be negative because of the use of certain words like 'crazy'. In context with this particuar conversation, the word 'crazy' was used to signify the magnitude of something. However, the lexcion value computed the sentiment as negative. Another case was when the tool computed the analysis as positive instead of negative. Phrases like 'I have to go', 'I'll talk to you later' more often than not denote disinterest in continuing the conversation. With respect to this conversation, the user didn't respond to the previous text that was a rhetorical question and decided to leave the conversation all of a sudden. This denotes lack of interest which wasn't computed as negative by the tool. Overall, the sentiment analysis was accurate for most of the texts. \n",
    "\n",
    "### Correlation \n",
    "The statistical result was as follows:\n",
    "###### prints correlation coefficient r, p-value\n",
    "###### (-0.107029636061563, 0.6725093450185388)\n",
    "The correlation coefficient is -0.107 , which denotes strong negative association between positivity and negativity.\n",
    "\n",
    "Null hypothesis: There is no difference between positivity and negativity\n",
    "Alternative hypothesis: There is a difference between positivity and negativity\n",
    "\n",
    "Since the pvalue(0.672) is greater than 0.05, we fail to reject the null hypothesis. Thus, there is not enough evidence to support the alternative hypothesis that positvity and negativity are opposites. "
   ]
  },
  {
   "cell_type": "code",
   "execution_count": null,
   "metadata": {},
   "outputs": [],
   "source": []
  }
 ],
 "metadata": {
  "kernelspec": {
   "display_name": "Python 3",
   "language": "python",
   "name": "python3"
  },
  "language_info": {
   "codemirror_mode": {
    "name": "ipython",
    "version": 3
   },
   "file_extension": ".py",
   "mimetype": "text/x-python",
   "name": "python",
   "nbconvert_exporter": "python",
   "pygments_lexer": "ipython3",
   "version": "3.6.5"
  }
 },
 "nbformat": 4,
 "nbformat_minor": 2
}
